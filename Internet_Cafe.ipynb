{
 "cells": [
  {
   "cell_type": "markdown",
   "id": "d9de156a-4c64-458a-88b1-191ff59f8f48",
   "metadata": {},
   "source": [
    "# INTERNET CAFE: PROJECT FOR CS BY M.YAHYA"
   ]
  },
  {
   "cell_type": "raw",
   "id": "1b931bdb-56eb-4584-ab43-4a339c29741a",
   "metadata": {},
   "source": [
    "## By using Sockets in python"
   ]
  },
  {
   "cell_type": "code",
   "execution_count": 13,
   "id": "1729defb-8be6-482d-a971-1da2acf8a145",
   "metadata": {},
   "outputs": [
    {
     "data": {
      "text/plain": [
       "b'vhgf6vs1Qie9xnct2HzN_Ss_0O96Yae8jkKTEZUsi8k='"
      ]
     },
     "execution_count": 13,
     "metadata": {},
     "output_type": "execute_result"
    }
   ],
   "source": [
    "#Project by M.Yahya\n",
    "from cryptography.fernet import Fernet\n",
    "import socket\n",
    "import threading\n",
    "\n",
    "# Generate encryption key\n",
    "key = Fernet.generate_key() #Makes A Secret Key\n",
    "cipher_suite = Fernet(key) # CIpher_Suite is used here for encryption\n",
    "\n",
    "key  # Display the encryption key (to be shared between client and server)\n"
   ]
  },
  {
   "cell_type": "code",
   "execution_count": 1,
   "id": "27284ad1-e141-4382-abab-6316cc18bc2e",
   "metadata": {},
   "outputs": [
    {
     "data": {
      "text/plain": [
       "b'GwO2SGHIONm0n25uQboy-2VFlXptADkjt6rAwIOyS6M='"
      ]
     },
     "execution_count": 1,
     "metadata": {},
     "output_type": "execute_result"
    }
   ],
   "source": []
  },
  {
   "cell_type": "code",
   "execution_count": 14,
   "id": "b03eeafc-5c92-4b2b-9e3d-dc78da4876c2",
   "metadata": {
    "collapsed": true,
    "jupyter": {
     "outputs_hidden": true
    }
   },
   "outputs": [
    {
     "name": "stdout",
     "output_type": "stream",
     "text": [
      "[SERVER] Server started, waiting for clients...\n",
      "[NEW CONNECTION] ('127.0.0.1', 62067) connected.\n",
      "[('127.0.0.1', 62067)] Hello Server, this is Computer 3!\n",
      "[('127.0.0.1', 62067)] User is browsing the web...\n",
      "[('127.0.0.1', 62067)] File download started...\n",
      "[('127.0.0.1', 62067)] Message transmission secure ✅\n",
      "[DISCONNECTED] ('127.0.0.1', 62067) disconnected.\n",
      "[NEW CONNECTION] ('127.0.0.1', 62071) connected.\n",
      "[('127.0.0.1', 62071)] Hello Server, this is Computer 2!\n",
      "[('127.0.0.1', 62071)] User is browsing the web...\n",
      "[('127.0.0.1', 62071)] File download started...\n",
      "[('127.0.0.1', 62071)] Message transmission secure ✅\n",
      "[DISCONNECTED] ('127.0.0.1', 62071) disconnected.\n",
      "[NEW CONNECTION] ('127.0.0.1', 62072) connected.\n",
      "[('127.0.0.1', 62072)] Hello Server, this is Computer 1!\n",
      "[('127.0.0.1', 62072)] User is browsing the web...\n",
      "[('127.0.0.1', 62072)] File download started...\n",
      "[('127.0.0.1', 62072)] Message transmission secure ✅\n",
      "[DISCONNECTED] ('127.0.0.1', 62072) disconnected.\n"
     ]
    }
   ],
   "source": [
    "# SERVER CODE\n",
    "\n",
    "import socket\n",
    "import threading\n",
    "\n",
    "# Use the same key as generated above\n",
    "cipher_suite = Fernet(b'vhgf6vs1Qie9xnct2HzN_Ss_0O96Yae8jkKTEZUsi8k=')\n",
    "\n",
    "# Server setup\n",
    "host = '127.0.0.1'\n",
    "port = 5556\n",
    "\n",
    "server = socket.socket(socket.AF_INET, socket.SOCK_STREAM) #Af_Inet is the ipv4 (Normal IP), Sock stream for TCP\n",
    "server.bind((host, port)) # Binds to local ips\n",
    "server.listen(5) # Starts listening for 5 clients\n",
    "\n",
    "print(\"[SERVER] Server started, waiting for clients...\")\n",
    "\n",
    "clients = []\n",
    "\n",
    "def handle_client(client_socket, address):\n",
    "    print(f\"[NEW CONNECTION] {address} connected.\")\n",
    "    while True:\n",
    "        try:\n",
    "            encrypted_msg = client_socket.recv(1024)\n",
    "            if not encrypted_msg:\n",
    "                break\n",
    "            decrypted_msg = cipher_suite.decrypt(encrypted_msg).decode()\n",
    "            print(f\"[{address}] {decrypted_msg}\")\n",
    "        except Exception as e:\n",
    "            print(f\"[ERROR] {address} {e}\")\n",
    "            break\n",
    "    client_socket.close()\n",
    "    print(f\"[DISCONNECTED] {address} disconnected.\")\n",
    "\n",
    "def start_server():\n",
    "    while True:\n",
    "        client_socket, addr = server.accept()\n",
    "        clients.append(client_socket)\n",
    "        thread = threading.Thread(target=handle_client, args=(client_socket, addr))\n",
    "        thread.start()\n",
    "\n",
    "# Start server in a thread to prevent blocking in notebook\n",
    "threading.Thread(target=start_server, daemon=True).start()\n"
   ]
  },
  {
   "cell_type": "code",
   "execution_count": 15,
   "id": "7914d261-c491-4052-90e1-27c2fee3d0a8",
   "metadata": {},
   "outputs": [
    {
     "name": "stdout",
     "output_type": "stream",
     "text": [
      "[CLIENT] Connected to server.\n",
      "[CLIENT] Sent: Hello Server, this is Computer 3!\n",
      "[CLIENT] Sent: User is browsing the web...\n",
      "[CLIENT] Sent: File download started...\n",
      "[CLIENT] Sent: Message transmission secure ✅\n",
      "[CLIENT] Disconnected.\n"
     ]
    }
   ],
   "source": [
    "# CLIENT CODE\n",
    "\n",
    "import socket\n",
    "import time\n",
    "\n",
    "# Use the same key for encryption\n",
    "cipher_suite = Fernet(b'vhgf6vs1Qie9xnct2HzN_Ss_0O96Yae8jkKTEZUsi8k=')\n",
    "\n",
    "# Client setup\n",
    "client = socket.socket(socket.AF_INET, socket.SOCK_STREAM)\n",
    "client.connect(('127.0.0.1', 5556))\n",
    "print(\"[CLIENT] Connected to server.\")\n",
    "\n",
    "# Function to send a secure message\n",
    "def send_secure_message(msg: str):\n",
    "    encrypted_msg = cipher_suite.encrypt(msg.encode())\n",
    "    client.send(encrypted_msg)\n",
    "    print(f\"[CLIENT] Sent: {msg}\")\n",
    "\n",
    "# Example messages from the client\n",
    "messages = [\n",
    "    \"Hello Server, this is Computer 3!\",\n",
    "    \"User is browsing the web...\",\n",
    "    \"File download started...\",\n",
    "    \"Message transmission secure ✅\"\n",
    "]\n",
    "\n",
    "# Simulate client sending messages\n",
    "for msg in messages:\n",
    "    send_secure_message(msg)\n",
    "    time.sleep(1)  # simulate delay between messages\n",
    "\n",
    "client.close()\n",
    "print(\"[CLIENT] Disconnected.\")\n"
   ]
  },
  {
   "cell_type": "code",
   "execution_count": null,
   "id": "284b0f21-7421-4902-8b67-6ea35285fc1b",
   "metadata": {},
   "outputs": [],
   "source": []
  }
 ],
 "metadata": {
  "kernelspec": {
   "display_name": "Python [conda env:base] *",
   "language": "python",
   "name": "conda-base-py"
  },
  "language_info": {
   "codemirror_mode": {
    "name": "ipython",
    "version": 3
   },
   "file_extension": ".py",
   "mimetype": "text/x-python",
   "name": "python",
   "nbconvert_exporter": "python",
   "pygments_lexer": "ipython3",
   "version": "3.13.5"
  }
 },
 "nbformat": 4,
 "nbformat_minor": 5
}
